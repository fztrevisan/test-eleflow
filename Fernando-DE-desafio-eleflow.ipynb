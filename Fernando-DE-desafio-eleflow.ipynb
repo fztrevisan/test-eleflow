{
 "cells": [
  {
   "cell_type": "markdown",
   "id": "destroyed-gates",
   "metadata": {},
   "source": [
    "# Desafio técnico - Data Engineer\n",
    "## Candidato: Fernando Zipperer Trevisan\n",
    "## Data 03/12/2021\n",
    "\n",
    "---\n",
    "#### Introdução\n",
    "Para a resolução deste teste foram seguidos os seguintes passos:\n",
    "1. Criação de um banco de dados local postgreSQL;\n",
    "2. Pré tratamento dos dados;\n",
    "3. Carga dos dados em tabelas do banco criado;\n",
    "4. Análise de dados com Python;"
   ]
  },
  {
   "cell_type": "markdown",
   "id": "settled-cyprus",
   "metadata": {},
   "source": [
    "## 1) Criando o banco de dados postgreSQL"
   ]
  },
  {
   "cell_type": "markdown",
   "id": "periodic-gateway",
   "metadata": {},
   "source": [
    "O primeiro passo é instalar o postgres no Linux usando os seguintes comandos do terminal:<br>\n",
    "`sudo apt update` <br>\n",
    "`sudo apt install postgresql postgresql-contrib`<br>\n",
    "<br>\n",
    "Em seguida vamos acessar o terminar do psql, usando o user padrão *postgres*, que iremos manter neste exercício, através do comando:<br>\n",
    "`sudo -u postgres psql`<br>\n",
    "<br>\n",
    "No terminal do postgres, vamos criar um database, que aqui terá o nome de **eleflow**<br>\n",
    "`createdb eleflow;`<br>\n",
    "<br>\n",
    "Para verificar se ele foi criado, ainda no terminal do psql podemos usar o comando `\\list` e ele deverá aparecer na listagem.<br>\n",
    "<br>\n",
    "Com o banco criando, usamos o `\\q` para sair do terminal do psql e seguiremos para o próximo passo."
   ]
  },
  {
   "cell_type": "markdown",
   "id": "persistent-jacob",
   "metadata": {},
   "source": [
    "## 2) Pré tratamento dos dados\n",
    "Os dados foram fornecidos em planilhas do Excel com formato `xlsx`e possuiam uma quantidade pequena de dados, como pode ser visto nas imagens a seguir, e em padrões de tabelas.\n",
    "![Dados do PIB no agronegócio](dados_pib.png)\n",
    "<br>\n",
    "**<center>Base de dados do PIB do Ramo Agrícola e Agronegócio</center>**\n",
    "<br>\n",
    "<br>\n",
    "![Dados de produção agrícola](dados_producao.png)\n",
    "<br>\n",
    "**<center>Base de dados de produção agrícola (área e produção) de Maio e Junho de 2019</center>**\n",
    "<br>\n",
    "<br>\n",
    "<br>\n",
    "Por serem bases pequenas, optou-se por fazer o pré tratamento e normalização dos dados no próprio Excel e ao fim gerar arquivos *csv*:\n",
    "- [Produção agrícola](producao.csv)\n",
    "- [PIB do Ramo Agrícola](pib_cepea.csv)"
   ]
  },
  {
   "cell_type": "markdown",
   "id": "enabling-investment",
   "metadata": {},
   "source": [
    "## 3) Carga dos dados no banco\n",
    "Após a normalização dos dados no item anterior, podemos criar as tabelas com os data types corretos.<br>\n",
    "Para facilitar usaremos uma IDE, como o DBeaver, para executar os comandos SQL a seguir e gerar as tabelas:<br>\n",
    "**Criar tabela para os dados de PIB --> pib_cepea.csv**\n",
    "```\n",
    "create table pib_cepea\n",
    "(\n",
    "\tano integer not null,\n",
    "\tinsumos double precision not null,\n",
    "\tagropecuaria double precision not null,\n",
    "\tindustria double precision not null,\n",
    "\tservicos double precision not null,\n",
    "\ttotal double precision not null,\n",
    "\tgrupo_primario varchar(30) not null,\n",
    "\tgrupo_secundario varchar(30) not null\n",
    ");\n",
    "```\n",
    "**Criar tabela para os dados de Produção Agrícula --> producao.csv**\n",
    "```\n",
    "create table producao\n",
    "(\n",
    "\testado varchar(255) not null,\n",
    "\t\"2019\" integer,\n",
    "\tmaio integer,\n",
    "\tjunho integer,\n",
    "\ttipo varchar(20) not null\n",
    ");\n",
    "\n",
    "```\n",
    "\n",
    "<br>\n",
    "Em seguida, através da IDE podemos clicar com o botão direito do mouse nas tabelas e importas os csv para as mesmas."
   ]
  },
  {
   "cell_type": "markdown",
   "id": "multiple-rebecca",
   "metadata": {},
   "source": [
    "## 4) Analisar os dados com Python\n",
    "\n",
    "Agora iremos analisar os dados através do Python para responder as perguntas feitas:\n",
    "1. Qual a porcentagem de participação da região Centro-Oeste na produção nacional no primeiro semestre de 2019?\n",
    "2. Qual estado possui maior área produtiva? \n",
    "3. Qual a média de produção mensal para o estado de São Paulo? \n",
    "4. Defina a correlação entre a produção agrícola e o PIB do Ramo Agrícola e Pecuário em 2019. Qual segmento possui maior correlação e qual possui menor correlação? Demonstre num gráfico e explique os coeficientes. \n"
   ]
  },
  {
   "cell_type": "markdown",
   "id": "breathing-central",
   "metadata": {},
   "source": [
    "Primeiros vamos importar as bibliotecas necessárias e criar algumas funções para consultar os dados do banco e retorná-los em um DataFrame:"
   ]
  },
  {
   "cell_type": "code",
   "execution_count": 1,
   "id": "empty-impossible",
   "metadata": {},
   "outputs": [],
   "source": [
    "# Importando as bibliotecas necessárias\n",
    "import psycopg2 #lib para conectar ao postgres\n",
    "import pandas as pd #lib para análise de dados\n",
    "\n",
    "# Criar conexão com o banco de dados\n",
    "def conn_db_eleflow():\n",
    "    conn_eleflow = psycopg2.connect(\n",
    "        host=\"127.0.0.1\",\n",
    "        database=\"eleflow\",\n",
    "        port=\"5432\",\n",
    "        user=\"postgres\",\n",
    "        password=\"postgres\",\n",
    "    )\n",
    "    return conn_eleflow\n",
    "\n",
    "# Executar uma consultar e retornar resultados em um DataFrame\n",
    "\n",
    "def get_data_postgres(query, connection):\n",
    "    conn = conn_db_eleflow()\n",
    "    df = pd.read_sql_query(query, conn)\n",
    "    return df"
   ]
  },
  {
   "cell_type": "markdown",
   "id": "absolute-sandwich",
   "metadata": {},
   "source": [
    "Agora vamos usar estas funções para criar nossos DataFrames com os dados.\n",
    "Por termos datasets pequenos, vamos fazer consultar no banco trazendo todas as colunas e sem filtros no WHERE e trataremos em seguida via Python."
   ]
  },
  {
   "cell_type": "code",
   "execution_count": 2,
   "id": "excited-cleaning",
   "metadata": {},
   "outputs": [],
   "source": [
    "# Consultas SQL\n",
    "query_pib = \"SELECT * FROM pib_cepea\"\n",
    "query_producao = \"SELECT * FROM producao\"\n",
    "\n",
    "# Retornar os dados em DataFrames\n",
    "conn = conn_db_eleflow()\n",
    "df_pib = get_data_postgres(query=query_pib, connection=conn)\n",
    "df_producao = get_data_postgres(query=query_producao, connection=conn)\n",
    "conn.close()"
   ]
  },
  {
   "cell_type": "code",
   "execution_count": 3,
   "id": "opponent-halifax",
   "metadata": {
    "scrolled": true
   },
   "outputs": [
    {
     "name": "stdout",
     "output_type": "stream",
     "text": [
      "<class 'pandas.core.frame.DataFrame'>\n",
      "RangeIndex: 144 entries, 0 to 143\n",
      "Data columns (total 8 columns):\n",
      " #   Column            Non-Null Count  Dtype  \n",
      "---  ------            --------------  -----  \n",
      " 0   ano               144 non-null    int64  \n",
      " 1   insumos           144 non-null    float64\n",
      " 2   agropecuaria      144 non-null    float64\n",
      " 3   industria         144 non-null    float64\n",
      " 4   servicos          144 non-null    float64\n",
      " 5   total             144 non-null    float64\n",
      " 6   grupo_primario    144 non-null    object \n",
      " 7   grupo_secundario  144 non-null    object \n",
      "dtypes: float64(5), int64(1), object(2)\n",
      "memory usage: 9.1+ KB\n"
     ]
    },
    {
     "data": {
      "text/html": [
       "<div>\n",
       "<style scoped>\n",
       "    .dataframe tbody tr th:only-of-type {\n",
       "        vertical-align: middle;\n",
       "    }\n",
       "\n",
       "    .dataframe tbody tr th {\n",
       "        vertical-align: top;\n",
       "    }\n",
       "\n",
       "    .dataframe thead th {\n",
       "        text-align: right;\n",
       "    }\n",
       "</style>\n",
       "<table border=\"1\" class=\"dataframe\">\n",
       "  <thead>\n",
       "    <tr style=\"text-align: right;\">\n",
       "      <th></th>\n",
       "      <th>ano</th>\n",
       "      <th>insumos</th>\n",
       "      <th>agropecuaria</th>\n",
       "      <th>industria</th>\n",
       "      <th>servicos</th>\n",
       "      <th>total</th>\n",
       "      <th>grupo_primario</th>\n",
       "      <th>grupo_secundario</th>\n",
       "    </tr>\n",
       "  </thead>\n",
       "  <tbody>\n",
       "    <tr>\n",
       "      <th>0</th>\n",
       "      <td>1996</td>\n",
       "      <td>31597.66303</td>\n",
       "      <td>200211.7777</td>\n",
       "      <td>514755.8826</td>\n",
       "      <td>646536.9825</td>\n",
       "      <td>1393102.306</td>\n",
       "      <td>renda</td>\n",
       "      <td>agronegocio</td>\n",
       "    </tr>\n",
       "    <tr>\n",
       "      <th>1</th>\n",
       "      <td>1997</td>\n",
       "      <td>32825.99820</td>\n",
       "      <td>199911.3017</td>\n",
       "      <td>482894.8427</td>\n",
       "      <td>604714.5593</td>\n",
       "      <td>1320346.702</td>\n",
       "      <td>renda</td>\n",
       "      <td>agronegocio</td>\n",
       "    </tr>\n",
       "    <tr>\n",
       "      <th>2</th>\n",
       "      <td>1998</td>\n",
       "      <td>31818.41065</td>\n",
       "      <td>200969.7414</td>\n",
       "      <td>455966.0021</td>\n",
       "      <td>576123.4132</td>\n",
       "      <td>1264877.567</td>\n",
       "      <td>renda</td>\n",
       "      <td>agronegocio</td>\n",
       "    </tr>\n",
       "    <tr>\n",
       "      <th>3</th>\n",
       "      <td>1999</td>\n",
       "      <td>34784.06716</td>\n",
       "      <td>206952.5872</td>\n",
       "      <td>453199.2288</td>\n",
       "      <td>573119.7313</td>\n",
       "      <td>1268055.614</td>\n",
       "      <td>renda</td>\n",
       "      <td>agronegocio</td>\n",
       "    </tr>\n",
       "    <tr>\n",
       "      <th>4</th>\n",
       "      <td>2000</td>\n",
       "      <td>40682.95486</td>\n",
       "      <td>209175.3905</td>\n",
       "      <td>496957.4707</td>\n",
       "      <td>626206.3398</td>\n",
       "      <td>1373022.156</td>\n",
       "      <td>renda</td>\n",
       "      <td>agronegocio</td>\n",
       "    </tr>\n",
       "  </tbody>\n",
       "</table>\n",
       "</div>"
      ],
      "text/plain": [
       "    ano      insumos  agropecuaria    industria     servicos        total  \\\n",
       "0  1996  31597.66303   200211.7777  514755.8826  646536.9825  1393102.306   \n",
       "1  1997  32825.99820   199911.3017  482894.8427  604714.5593  1320346.702   \n",
       "2  1998  31818.41065   200969.7414  455966.0021  576123.4132  1264877.567   \n",
       "3  1999  34784.06716   206952.5872  453199.2288  573119.7313  1268055.614   \n",
       "4  2000  40682.95486   209175.3905  496957.4707  626206.3398  1373022.156   \n",
       "\n",
       "  grupo_primario grupo_secundario  \n",
       "0          renda      agronegocio  \n",
       "1          renda      agronegocio  \n",
       "2          renda      agronegocio  \n",
       "3          renda      agronegocio  \n",
       "4          renda      agronegocio  "
      ]
     },
     "execution_count": 3,
     "metadata": {},
     "output_type": "execute_result"
    }
   ],
   "source": [
    "df_pib.info()\n",
    "df_pib.head()"
   ]
  },
  {
   "cell_type": "code",
   "execution_count": 4,
   "id": "spread-complexity",
   "metadata": {},
   "outputs": [
    {
     "name": "stdout",
     "output_type": "stream",
     "text": [
      "<class 'pandas.core.frame.DataFrame'>\n",
      "RangeIndex: 54 entries, 0 to 53\n",
      "Data columns (total 5 columns):\n",
      " #   Column  Non-Null Count  Dtype  \n",
      "---  ------  --------------  -----  \n",
      " 0   estado  54 non-null     object \n",
      " 1   2019    53 non-null     float64\n",
      " 2   maio    54 non-null     int64  \n",
      " 3   junho   54 non-null     int64  \n",
      " 4   tipo    54 non-null     object \n",
      "dtypes: float64(1), int64(2), object(2)\n",
      "memory usage: 2.2+ KB\n"
     ]
    },
    {
     "data": {
      "text/html": [
       "<div>\n",
       "<style scoped>\n",
       "    .dataframe tbody tr th:only-of-type {\n",
       "        vertical-align: middle;\n",
       "    }\n",
       "\n",
       "    .dataframe tbody tr th {\n",
       "        vertical-align: top;\n",
       "    }\n",
       "\n",
       "    .dataframe thead th {\n",
       "        text-align: right;\n",
       "    }\n",
       "</style>\n",
       "<table border=\"1\" class=\"dataframe\">\n",
       "  <thead>\n",
       "    <tr style=\"text-align: right;\">\n",
       "      <th></th>\n",
       "      <th>estado</th>\n",
       "      <th>2019</th>\n",
       "      <th>maio</th>\n",
       "      <th>junho</th>\n",
       "      <th>tipo</th>\n",
       "    </tr>\n",
       "  </thead>\n",
       "  <tbody>\n",
       "    <tr>\n",
       "      <th>0</th>\n",
       "      <td>ACRE</td>\n",
       "      <td>44487.0</td>\n",
       "      <td>39352</td>\n",
       "      <td>39361</td>\n",
       "      <td>area</td>\n",
       "    </tr>\n",
       "    <tr>\n",
       "      <th>1</th>\n",
       "      <td>ALAGOAS</td>\n",
       "      <td>45842.0</td>\n",
       "      <td>80283</td>\n",
       "      <td>80385</td>\n",
       "      <td>area</td>\n",
       "    </tr>\n",
       "    <tr>\n",
       "      <th>2</th>\n",
       "      <td>AMAPÁ</td>\n",
       "      <td>21548.0</td>\n",
       "      <td>22442</td>\n",
       "      <td>23242</td>\n",
       "      <td>area</td>\n",
       "    </tr>\n",
       "    <tr>\n",
       "      <th>3</th>\n",
       "      <td>AMAZONAS</td>\n",
       "      <td>22930.0</td>\n",
       "      <td>22930</td>\n",
       "      <td>22930</td>\n",
       "      <td>area</td>\n",
       "    </tr>\n",
       "    <tr>\n",
       "      <th>4</th>\n",
       "      <td>BAHIA</td>\n",
       "      <td>3130065.0</td>\n",
       "      <td>3107865</td>\n",
       "      <td>3085865</td>\n",
       "      <td>area</td>\n",
       "    </tr>\n",
       "  </tbody>\n",
       "</table>\n",
       "</div>"
      ],
      "text/plain": [
       "     estado       2019     maio    junho  tipo\n",
       "0      ACRE    44487.0    39352    39361  area\n",
       "1   ALAGOAS    45842.0    80283    80385  area\n",
       "2     AMAPÁ    21548.0    22442    23242  area\n",
       "3  AMAZONAS    22930.0    22930    22930  area\n",
       "4     BAHIA  3130065.0  3107865  3085865  area"
      ]
     },
     "execution_count": 4,
     "metadata": {},
     "output_type": "execute_result"
    }
   ],
   "source": [
    "df_producao.info()\n",
    "df_producao.head()"
   ]
  },
  {
   "cell_type": "markdown",
   "id": "foster-privacy",
   "metadata": {},
   "source": [
    "Durante o pré tratamento dos dados e a visualização feita acima vamos assumir que:\n",
    "- Nos dados de produção agrícola a coluna **2019** é a média mensal do ano de 2019;\n",
    "- Usarem os dados onde a coluna grupo_primario seja igual à tag \"PIB\" que representa o PIB em R$ milhões correntes\n",
    "\n",
    "Foi possível perceber tamém que há um valor nulo na coluna \"2019\" dos dados de produção agrícola e por se tratar de uma coluna numérica vamos substituí-lo por zero:"
   ]
  },
  {
   "cell_type": "code",
   "execution_count": 5,
   "id": "necessary-binary",
   "metadata": {},
   "outputs": [],
   "source": [
    "df_producao[\"2019\"] = df_producao[\"2019\"].fillna(0)"
   ]
  },
  {
   "cell_type": "markdown",
   "id": "gothic-helena",
   "metadata": {},
   "source": [
    "---\n",
    "#### Respondendo a primeira pergunta\n",
    "Qual a porcentagem de participação da região Centro-Oeste na produção nacional no primeiro semestre de 2019?"
   ]
  },
  {
   "cell_type": "code",
   "execution_count": 6,
   "id": "trying-queen",
   "metadata": {},
   "outputs": [],
   "source": [
    "centro_oeste = [\"DISTRITO FEDERAL\", \"GOIÁS\", \"MATO GROSSO\", \"MATO GROSSO DO SUL\"]\n",
    "df_centro_oeste = df_producao[(df_producao[\"tipo\"] == \"producao\") &\n",
    "                               df_producao[\"estado\"].isin(centro_oeste)]"
   ]
  },
  {
   "cell_type": "code",
   "execution_count": 7,
   "id": "intermediate-participant",
   "metadata": {},
   "outputs": [
    {
     "data": {
      "text/html": [
       "<div>\n",
       "<style scoped>\n",
       "    .dataframe tbody tr th:only-of-type {\n",
       "        vertical-align: middle;\n",
       "    }\n",
       "\n",
       "    .dataframe tbody tr th {\n",
       "        vertical-align: top;\n",
       "    }\n",
       "\n",
       "    .dataframe thead th {\n",
       "        text-align: right;\n",
       "    }\n",
       "</style>\n",
       "<table border=\"1\" class=\"dataframe\">\n",
       "  <thead>\n",
       "    <tr style=\"text-align: right;\">\n",
       "      <th></th>\n",
       "      <th>estado</th>\n",
       "      <th>2019</th>\n",
       "      <th>maio</th>\n",
       "      <th>junho</th>\n",
       "      <th>tipo</th>\n",
       "    </tr>\n",
       "  </thead>\n",
       "  <tbody>\n",
       "    <tr>\n",
       "      <th>33</th>\n",
       "      <td>DISTRITO FEDERAL</td>\n",
       "      <td>826860.0</td>\n",
       "      <td>860900</td>\n",
       "      <td>863936</td>\n",
       "      <td>producao</td>\n",
       "    </tr>\n",
       "    <tr>\n",
       "      <th>35</th>\n",
       "      <td>GOIÁS</td>\n",
       "      <td>24165328.0</td>\n",
       "      <td>25295407</td>\n",
       "      <td>25049399</td>\n",
       "      <td>producao</td>\n",
       "    </tr>\n",
       "    <tr>\n",
       "      <th>37</th>\n",
       "      <td>MATO GROSSO</td>\n",
       "      <td>67533553.0</td>\n",
       "      <td>70280101</td>\n",
       "      <td>70280101</td>\n",
       "      <td>producao</td>\n",
       "    </tr>\n",
       "    <tr>\n",
       "      <th>38</th>\n",
       "      <td>MATO GROSSO DO SUL</td>\n",
       "      <td>18991372.0</td>\n",
       "      <td>19587130</td>\n",
       "      <td>19587130</td>\n",
       "      <td>producao</td>\n",
       "    </tr>\n",
       "  </tbody>\n",
       "</table>\n",
       "</div>"
      ],
      "text/plain": [
       "                estado        2019      maio     junho      tipo\n",
       "33    DISTRITO FEDERAL    826860.0    860900    863936  producao\n",
       "35               GOIÁS  24165328.0  25295407  25049399  producao\n",
       "37         MATO GROSSO  67533553.0  70280101  70280101  producao\n",
       "38  MATO GROSSO DO SUL  18991372.0  19587130  19587130  producao"
      ]
     },
     "execution_count": 7,
     "metadata": {},
     "output_type": "execute_result"
    }
   ],
   "source": [
    "df_centro_oeste"
   ]
  },
  {
   "cell_type": "code",
   "execution_count": 8,
   "id": "graphic-scenario",
   "metadata": {},
   "outputs": [],
   "source": [
    "prod_mensal_centro_oeste = df_centro_oeste[\"2019\"].sum()"
   ]
  },
  {
   "cell_type": "markdown",
   "id": "frequent-bangkok",
   "metadata": {},
   "source": [
    "A produção média da região centro oeste, em toneladas, durante um semestre no ano de 2019 foi:"
   ]
  },
  {
   "cell_type": "code",
   "execution_count": 9,
   "id": "increasing-nomination",
   "metadata": {
    "scrolled": true
   },
   "outputs": [
    {
     "name": "stdout",
     "output_type": "stream",
     "text": [
      "669,102,678.0\n"
     ]
    }
   ],
   "source": [
    "print(f\"{prod_mensal_centro_oeste * 6:,}\")"
   ]
  },
  {
   "cell_type": "markdown",
   "id": "trying-capture",
   "metadata": {},
   "source": [
    "---\n",
    "#### Segunda pergunta\n",
    "Qual estado possui maior área produtiva?"
   ]
  },
  {
   "cell_type": "code",
   "execution_count": 10,
   "id": "expired-glossary",
   "metadata": {},
   "outputs": [],
   "source": [
    "df_area = df_producao[df_producao[\"tipo\"]==\"area\"]"
   ]
  },
  {
   "cell_type": "code",
   "execution_count": 11,
   "id": "efficient-genre",
   "metadata": {},
   "outputs": [],
   "source": [
    "max_area = df_area[\"2019\"].max()"
   ]
  },
  {
   "cell_type": "code",
   "execution_count": 12,
   "id": "communist-florida",
   "metadata": {},
   "outputs": [
    {
     "data": {
      "text/html": [
       "<style  type=\"text/css\" >\n",
       "</style><table id=\"T_ec54b_\" ><thead>    <tr>        <th class=\"blank level0\" ></th>        <th class=\"col_heading level0 col0\" >estado</th>        <th class=\"col_heading level0 col1\" >2019</th>        <th class=\"col_heading level0 col2\" >maio</th>        <th class=\"col_heading level0 col3\" >junho</th>        <th class=\"col_heading level0 col4\" >tipo</th>    </tr></thead><tbody>\n",
       "                <tr>\n",
       "                        <th id=\"T_ec54b_level0_row0\" class=\"row_heading level0 row0\" >10</th>\n",
       "                        <td id=\"T_ec54b_row0_col0\" class=\"data row0 col0\" >MATO GROSSO</td>\n",
       "                        <td id=\"T_ec54b_row0_col1\" class=\"data row0 col1\" >16,273,085.0</td>\n",
       "                        <td id=\"T_ec54b_row0_col2\" class=\"data row0 col2\" >16,730,548</td>\n",
       "                        <td id=\"T_ec54b_row0_col3\" class=\"data row0 col3\" >16,730,548</td>\n",
       "                        <td id=\"T_ec54b_row0_col4\" class=\"data row0 col4\" >area</td>\n",
       "            </tr>\n",
       "    </tbody></table>"
      ],
      "text/plain": [
       "<pandas.io.formats.style.Styler at 0x7f3acd3909a0>"
      ]
     },
     "execution_count": 12,
     "metadata": {},
     "output_type": "execute_result"
    }
   ],
   "source": [
    "df_area[df_area[\"2019\"] == max_area].style.format(\n",
    "    {\n",
    "        \"maio\": \"{:,d}\",\n",
    "        \"junho\": \"{:,d}\",\n",
    "        \"2019\": \"{:,.1f}\"\n",
    "    }\n",
    ")"
   ]
  },
  {
   "cell_type": "markdown",
   "id": "abroad-stereo",
   "metadata": {},
   "source": [
    "---\n",
    "#### Terceira pergunta\n",
    "Qual a média de produção mensal para o estado de São Paulo?"
   ]
  },
  {
   "cell_type": "code",
   "execution_count": 13,
   "id": "statutory-dubai",
   "metadata": {},
   "outputs": [],
   "source": [
    "df_prod_SP = df_producao[(df_producao[\"tipo\"] == \"producao\") & (df_producao[\"estado\"] == \"SÃO PAULO\")]"
   ]
  },
  {
   "cell_type": "code",
   "execution_count": 14,
   "id": "understanding-marker",
   "metadata": {},
   "outputs": [],
   "source": [
    "media_mensal_SP = df_prod_SP[\"2019\"].values[0]"
   ]
  },
  {
   "cell_type": "code",
   "execution_count": 15,
   "id": "genetic-lafayette",
   "metadata": {},
   "outputs": [
    {
     "name": "stdout",
     "output_type": "stream",
     "text": [
      "Produção média mensal para SP: 9,224,840.0\n"
     ]
    }
   ],
   "source": [
    "print(f\"Produção média mensal para SP: {media_mensal_SP:,}\")"
   ]
  },
  {
   "cell_type": "markdown",
   "id": "genuine-chemical",
   "metadata": {},
   "source": [
    "---\n",
    "#### Quarta pergunta\n",
    "Defina a correlação entre a produção agrícola e o PIB do Ramo Agrícola e Pecuário em 2019. Qual segmento possui maior correlação e qual possui menor correlação? Demonstre num gráfico e explique os coeficientes."
   ]
  },
  {
   "cell_type": "code",
   "execution_count": null,
   "id": "recreational-disability",
   "metadata": {},
   "outputs": [],
   "source": []
  }
 ],
 "metadata": {
  "kernelspec": {
   "display_name": "Python 3",
   "language": "python",
   "name": "python3"
  },
  "language_info": {
   "codemirror_mode": {
    "name": "ipython",
    "version": 3
   },
   "file_extension": ".py",
   "mimetype": "text/x-python",
   "name": "python",
   "nbconvert_exporter": "python",
   "pygments_lexer": "ipython3",
   "version": "3.8.10"
  }
 },
 "nbformat": 4,
 "nbformat_minor": 5
}
